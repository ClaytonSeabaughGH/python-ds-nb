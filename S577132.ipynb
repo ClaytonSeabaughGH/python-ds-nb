{
 "cells": [
  {
   "cell_type": "markdown",
   "metadata": {},
   "source": [
    "# Question 10 \n",
    "### Author: Clayton Seabaugh"
   ]
  },
  {
   "cell_type": "code",
   "execution_count": 1,
   "metadata": {},
   "outputs": [
    {
     "name": "stdout",
     "output_type": "stream",
     "text": [
      "*      *\n",
      "**    **\n",
      "***  ***\n",
      "********\n"
     ]
    }
   ],
   "source": [
    "# Define rows\n",
    "rows = 4\n",
    "\n",
    "for i in range(1, rows+1):\n",
    "    # Print left stars\n",
    "    print('*' * i, end='')\n",
    "    \n",
    "    # Print spaces between stars\n",
    "    spaces = 2 * (rows - i)\n",
    "    print(' ' * spaces, end='')\n",
    "\n",
    "    # Print right stars\n",
    "    print('*' * i)\n",
    "\n"
   ]
  }
 ],
 "metadata": {
  "kernelspec": {
   "display_name": "Python 3",
   "language": "python",
   "name": "python3"
  },
  "language_info": {
   "codemirror_mode": {
    "name": "ipython",
    "version": 3
   },
   "file_extension": ".py",
   "mimetype": "text/x-python",
   "name": "python",
   "nbconvert_exporter": "python",
   "pygments_lexer": "ipython3",
   "version": "3.12.5"
  }
 },
 "nbformat": 4,
 "nbformat_minor": 2
}
